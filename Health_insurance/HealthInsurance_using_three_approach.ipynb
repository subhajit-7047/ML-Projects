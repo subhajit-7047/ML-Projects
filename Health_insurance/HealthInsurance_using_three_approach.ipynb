{
 "cells": [
  {
   "cell_type": "code",
   "execution_count": 17,
   "id": "c07a570b",
   "metadata": {},
   "outputs": [],
   "source": [
    "import pandas as pd\n",
    "import numpy as np\n",
    "from sklearn.model_selection import train_test_split\n",
    "from sklearn.preprocessing import StandardScaler, OneHotEncoder\n",
    "from sklearn.compose import ColumnTransformer\n",
    "from sklearn.pipeline import Pipeline\n",
    "from sklearn.linear_model import LinearRegression\n",
    "from sklearn.tree import DecisionTreeRegressor\n",
    "from sklearn.ensemble import RandomForestRegressor\n",
    "from sklearn.metrics import r2_score\n"
   ]
  },
  {
   "cell_type": "code",
   "execution_count": 2,
   "id": "4d12c831",
   "metadata": {},
   "outputs": [],
   "source": [
    "df = pd.read_csv(\"1651277648862_healthinsurance.csv\")\n"
   ]
  },
  {
   "cell_type": "code",
   "execution_count": 3,
   "id": "a05eff02",
   "metadata": {},
   "outputs": [
    {
     "data": {
      "text/html": [
       "<div>\n",
       "<style scoped>\n",
       "    .dataframe tbody tr th:only-of-type {\n",
       "        vertical-align: middle;\n",
       "    }\n",
       "\n",
       "    .dataframe tbody tr th {\n",
       "        vertical-align: top;\n",
       "    }\n",
       "\n",
       "    .dataframe thead th {\n",
       "        text-align: right;\n",
       "    }\n",
       "</style>\n",
       "<table border=\"1\" class=\"dataframe\">\n",
       "  <thead>\n",
       "    <tr style=\"text-align: right;\">\n",
       "      <th></th>\n",
       "      <th>age</th>\n",
       "      <th>sex</th>\n",
       "      <th>weight</th>\n",
       "      <th>bmi</th>\n",
       "      <th>hereditary_diseases</th>\n",
       "      <th>no_of_dependents</th>\n",
       "      <th>smoker</th>\n",
       "      <th>city</th>\n",
       "      <th>bloodpressure</th>\n",
       "      <th>diabetes</th>\n",
       "      <th>regular_ex</th>\n",
       "      <th>job_title</th>\n",
       "      <th>claim</th>\n",
       "    </tr>\n",
       "  </thead>\n",
       "  <tbody>\n",
       "    <tr>\n",
       "      <th>0</th>\n",
       "      <td>60.0</td>\n",
       "      <td>male</td>\n",
       "      <td>64</td>\n",
       "      <td>24.3</td>\n",
       "      <td>NoDisease</td>\n",
       "      <td>1</td>\n",
       "      <td>0</td>\n",
       "      <td>NewYork</td>\n",
       "      <td>72</td>\n",
       "      <td>0</td>\n",
       "      <td>0</td>\n",
       "      <td>Actor</td>\n",
       "      <td>13112.6</td>\n",
       "    </tr>\n",
       "    <tr>\n",
       "      <th>1</th>\n",
       "      <td>49.0</td>\n",
       "      <td>female</td>\n",
       "      <td>75</td>\n",
       "      <td>22.6</td>\n",
       "      <td>NoDisease</td>\n",
       "      <td>1</td>\n",
       "      <td>0</td>\n",
       "      <td>Boston</td>\n",
       "      <td>78</td>\n",
       "      <td>1</td>\n",
       "      <td>1</td>\n",
       "      <td>Engineer</td>\n",
       "      <td>9567.0</td>\n",
       "    </tr>\n",
       "    <tr>\n",
       "      <th>2</th>\n",
       "      <td>32.0</td>\n",
       "      <td>female</td>\n",
       "      <td>64</td>\n",
       "      <td>17.8</td>\n",
       "      <td>Epilepsy</td>\n",
       "      <td>2</td>\n",
       "      <td>1</td>\n",
       "      <td>Phildelphia</td>\n",
       "      <td>88</td>\n",
       "      <td>1</td>\n",
       "      <td>1</td>\n",
       "      <td>Academician</td>\n",
       "      <td>32734.2</td>\n",
       "    </tr>\n",
       "    <tr>\n",
       "      <th>3</th>\n",
       "      <td>61.0</td>\n",
       "      <td>female</td>\n",
       "      <td>53</td>\n",
       "      <td>36.4</td>\n",
       "      <td>NoDisease</td>\n",
       "      <td>1</td>\n",
       "      <td>1</td>\n",
       "      <td>Pittsburg</td>\n",
       "      <td>72</td>\n",
       "      <td>1</td>\n",
       "      <td>0</td>\n",
       "      <td>Chef</td>\n",
       "      <td>48517.6</td>\n",
       "    </tr>\n",
       "    <tr>\n",
       "      <th>4</th>\n",
       "      <td>19.0</td>\n",
       "      <td>female</td>\n",
       "      <td>50</td>\n",
       "      <td>20.6</td>\n",
       "      <td>NoDisease</td>\n",
       "      <td>0</td>\n",
       "      <td>0</td>\n",
       "      <td>Buffalo</td>\n",
       "      <td>82</td>\n",
       "      <td>1</td>\n",
       "      <td>0</td>\n",
       "      <td>HomeMakers</td>\n",
       "      <td>1731.7</td>\n",
       "    </tr>\n",
       "  </tbody>\n",
       "</table>\n",
       "</div>"
      ],
      "text/plain": [
       "    age     sex  weight   bmi hereditary_diseases  no_of_dependents  smoker  \\\n",
       "0  60.0    male      64  24.3           NoDisease                 1       0   \n",
       "1  49.0  female      75  22.6           NoDisease                 1       0   \n",
       "2  32.0  female      64  17.8            Epilepsy                 2       1   \n",
       "3  61.0  female      53  36.4           NoDisease                 1       1   \n",
       "4  19.0  female      50  20.6           NoDisease                 0       0   \n",
       "\n",
       "          city  bloodpressure  diabetes  regular_ex    job_title    claim  \n",
       "0      NewYork             72         0           0        Actor  13112.6  \n",
       "1       Boston             78         1           1     Engineer   9567.0  \n",
       "2  Phildelphia             88         1           1  Academician  32734.2  \n",
       "3    Pittsburg             72         1           0         Chef  48517.6  \n",
       "4      Buffalo             82         1           0   HomeMakers   1731.7  "
      ]
     },
     "execution_count": 3,
     "metadata": {},
     "output_type": "execute_result"
    }
   ],
   "source": [
    "df.head()"
   ]
  },
  {
   "cell_type": "code",
   "execution_count": 4,
   "id": "f9a40fb6",
   "metadata": {},
   "outputs": [
    {
     "data": {
      "text/plain": [
       "age                    396\n",
       "sex                      0\n",
       "weight                   0\n",
       "bmi                    956\n",
       "hereditary_diseases      0\n",
       "no_of_dependents         0\n",
       "smoker                   0\n",
       "city                     0\n",
       "bloodpressure            0\n",
       "diabetes                 0\n",
       "regular_ex               0\n",
       "job_title                0\n",
       "claim                    0\n",
       "dtype: int64"
      ]
     },
     "execution_count": 4,
     "metadata": {},
     "output_type": "execute_result"
    }
   ],
   "source": [
    "#checking null values\n",
    "\n",
    "df.isnull().sum()"
   ]
  },
  {
   "cell_type": "markdown",
   "id": "fc24af4f",
   "metadata": {},
   "source": [
    " Missing Value Handle (Mean)"
   ]
  },
  {
   "cell_type": "code",
   "execution_count": 5,
   "id": "0ca3b3bb",
   "metadata": {},
   "outputs": [
    {
     "name": "stderr",
     "output_type": "stream",
     "text": [
      "C:\\Users\\User\\AppData\\Local\\Temp\\ipykernel_32240\\1325500047.py:1: FutureWarning: A value is trying to be set on a copy of a DataFrame or Series through chained assignment using an inplace method.\n",
      "The behavior will change in pandas 3.0. This inplace method will never work because the intermediate object on which we are setting values always behaves as a copy.\n",
      "\n",
      "For example, when doing 'df[col].method(value, inplace=True)', try using 'df.method({col: value}, inplace=True)' or df[col] = df[col].method(value) instead, to perform the operation inplace on the original object.\n",
      "\n",
      "\n",
      "  df['age'].fillna(df['age'].mean(), inplace=True)\n",
      "C:\\Users\\User\\AppData\\Local\\Temp\\ipykernel_32240\\1325500047.py:2: FutureWarning: A value is trying to be set on a copy of a DataFrame or Series through chained assignment using an inplace method.\n",
      "The behavior will change in pandas 3.0. This inplace method will never work because the intermediate object on which we are setting values always behaves as a copy.\n",
      "\n",
      "For example, when doing 'df[col].method(value, inplace=True)', try using 'df.method({col: value}, inplace=True)' or df[col] = df[col].method(value) instead, to perform the operation inplace on the original object.\n",
      "\n",
      "\n",
      "  df['bmi'].fillna(df['bmi'].mean(), inplace=True)\n"
     ]
    }
   ],
   "source": [
    "df['age'].fillna(df['age'].mean(), inplace=True)\n",
    "df['bmi'].fillna(df['bmi'].mean(), inplace=True)\n"
   ]
  },
  {
   "cell_type": "markdown",
   "id": "5918f641",
   "metadata": {},
   "source": [
    "Feature & Target"
   ]
  },
  {
   "cell_type": "code",
   "execution_count": 6,
   "id": "664cf8ac",
   "metadata": {},
   "outputs": [],
   "source": [
    "X = df.drop(\"claim\", axis=1)\n",
    "y = df[\"claim\"]\n"
   ]
  },
  {
   "cell_type": "markdown",
   "id": "5fbbfe7a",
   "metadata": {},
   "source": [
    "which which Column numeric or which categorical"
   ]
  },
  {
   "cell_type": "code",
   "execution_count": 7,
   "id": "002b2f3f",
   "metadata": {},
   "outputs": [],
   "source": [
    "numeric_features = X.select_dtypes(include=['int64', 'float64']).columns.tolist()\n",
    "categorical_features = X.select_dtypes(include=['object']).columns.tolist()"
   ]
  },
  {
   "cell_type": "markdown",
   "id": "e080b28f",
   "metadata": {},
   "source": [
    "Preprocessing (Scaler + OneHotEncoder)"
   ]
  },
  {
   "cell_type": "code",
   "execution_count": 8,
   "id": "7bb4ad4c",
   "metadata": {},
   "outputs": [],
   "source": [
    "preprocessor = ColumnTransformer(\n",
    "    transformers=[\n",
    "        ('num', StandardScaler(), numeric_features),\n",
    "        ('cat', OneHotEncoder(handle_unknown='ignore'), categorical_features)\n",
    "    ]\n",
    ")\n"
   ]
  },
  {
   "cell_type": "markdown",
   "id": "2c7a34cd",
   "metadata": {},
   "source": [
    "Model setup"
   ]
  },
  {
   "cell_type": "code",
   "execution_count": 9,
   "id": "8d8df123",
   "metadata": {},
   "outputs": [],
   "source": [
    "models = {\n",
    "    \"Linear Regression\": LinearRegression(),\n",
    "    \"Decision Tree Regressor\": DecisionTreeRegressor(random_state=42),\n",
    "    \"Random Forest Regressor\": RandomForestRegressor(random_state=42)\n",
    "}\n"
   ]
  },
  {
   "cell_type": "markdown",
   "id": "bebe1595",
   "metadata": {},
   "source": [
    " Train-Test Split "
   ]
  },
  {
   "cell_type": "code",
   "execution_count": 10,
   "id": "f929da30",
   "metadata": {},
   "outputs": [],
   "source": [
    "X_train, X_test, y_train, y_test = train_test_split(X, y, test_size=0.2, random_state=42)\n"
   ]
  },
  {
   "cell_type": "markdown",
   "id": "f170397a",
   "metadata": {},
   "source": [
    "Model train and  Evaluate"
   ]
  },
  {
   "cell_type": "code",
   "execution_count": 11,
   "id": "72ba9737",
   "metadata": {},
   "outputs": [],
   "source": [
    "results = {}\n",
    "\n",
    "for name, model in models.items():\n",
    "    pipe = Pipeline(steps=[\n",
    "        ('preprocessor', preprocessor),\n",
    "        ('regressor', model)\n",
    "    ])\n",
    "    pipe.fit(X_train, y_train)\n",
    "    y_pred = pipe.predict(X_test)\n",
    "    results[name] = r2_score(y_test, y_pred)\n"
   ]
  },
  {
   "cell_type": "markdown",
   "id": "29711cb3",
   "metadata": {},
   "source": [
    "result"
   ]
  },
  {
   "cell_type": "code",
   "execution_count": 12,
   "id": "05e6f4fa",
   "metadata": {},
   "outputs": [
    {
     "name": "stdout",
     "output_type": "stream",
     "text": [
      "📊 Model Performance (R² Score):\n",
      "Linear Regression: 0.7601\n",
      "Decision Tree Regressor: 0.9451\n",
      "Random Forest Regressor: 0.9645\n"
     ]
    }
   ],
   "source": [
    "print(\"📊 Model Performance (R² Score):\")\n",
    "for model, score in results.items():\n",
    "    print(f\"{model}: {score:.4f}\")\n"
   ]
  },
  {
   "cell_type": "code",
   "execution_count": 19,
   "id": "5421b7ab",
   "metadata": {},
   "outputs": [
    {
     "name": "stdout",
     "output_type": "stream",
     "text": [
      "Random Forest Regressor Performance:\n",
      "MAE:  542.8134\n",
      "RMSE: 2303.6458\n",
      "R2:   0.9645\n"
     ]
    }
   ],
   "source": [
    "# i want check the model performance of random forest regression : mae ,rmse,r2 \n",
    "\n",
    "   \n",
    "# Check the model performance of Random Forest Regressor: MAE, RMSE, R2\",\n",
    "from sklearn.metrics import mean_absolute_error, mean_squared_error, r2_score\n",
    "\n",
    "# Re-train pipeline for Random Forest Regressor\",\n",
    "rf_pipe = Pipeline(steps=[\n",
    "        ('preprocessor', preprocessor),\n",
    "        ('regressor', RandomForestRegressor(random_state=42))\n",
    "        ])\n",
    "rf_pipe.fit(X_train, y_train)\n",
    "y_pred_rf = rf_pipe.predict(X_test)\n",
    "        \n",
    "mae = mean_absolute_error(y_test, y_pred_rf)\n",
    "rmse =np.sqrt(mean_squared_error(y_test, y_pred_rf))\n",
    "r2 = r2_score(y_test, y_pred_rf)\n",
    "        \n",
    "print(\"Random Forest Regressor Performance:\")\n",
    "print(f\"MAE:  {mae:.4f}\")\n",
    "print(f\"RMSE: {rmse:.4f}\")\n",
    "print(f\"R2:   {r2:.4f}\")"
   ]
  }
 ],
 "metadata": {
  "kernelspec": {
   "display_name": "base",
   "language": "python",
   "name": "python3"
  },
  "language_info": {
   "codemirror_mode": {
    "name": "ipython",
    "version": 3
   },
   "file_extension": ".py",
   "mimetype": "text/x-python",
   "name": "python",
   "nbconvert_exporter": "python",
   "pygments_lexer": "ipython3",
   "version": "3.13.5"
  }
 },
 "nbformat": 4,
 "nbformat_minor": 5
}
